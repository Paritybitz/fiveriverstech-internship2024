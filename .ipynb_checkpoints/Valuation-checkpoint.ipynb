{
 "cells": [
  {
   "cell_type": "markdown",
   "id": "49e5b414-d785-4e65-a0a6-2c1e6ffdd159",
   "metadata": {},
   "source": [
    "Write function for following:\n",
    "\n",
    "Given a company_name do this:\n",
    "\n",
    "1- Get all rows of the company and sort them by Series from Share Type column.\n",
    "\n",
    "2- Convert the Raised to Date, Post Money Valuation, Percent Shares Outstanding and Price Per Share columns to simple numbers. MM=Million,B=Billion,K=Thousand\n",
    "\n",
    "3- With Share Type on X-Axis, plot multiple line plots with different colors, for Raised to Date, Post Money Valuation, Price Per Share, Percent Shares Outstanding\n",
    "\n",
    "4- Plot 3 Scatter plots of (Raised to Date ,Post Money Valuation) and (Price Per Share,Post Money Valuation) and (Percent Shares Outstanding ,Post Money Valuation) and then find the 3 correlation coefficients.\n",
    "\n",
    "5- Calculate percentage changes in Raised to Date, Post Money Valuation, Percent Shares Outstanding and Price Per Share and then plot those as multiple line plots and scatter plots like 3 and 4.\n",
    "\n",
    "6- Now do the plots of Raised to Date, Post Money Valuation, Percent Shares Outstanding and Price Per Share over time in terms of quarters of year using Date column. Do time series interpolation like forward filling/linear interpolation for missing values."
   ]
  },
  {
   "cell_type": "code",
   "execution_count": 16,
   "id": "0ce50fba-d5cf-4f56-9e1c-ddfc1080b1fe",
   "metadata": {},
   "outputs": [],
   "source": [
    "import pandas as pd\n",
    "import matplotlib.pyplot as plt\n",
    "import seaborn as sns\n",
    "import numpy as np"
   ]
  },
  {
   "cell_type": "code",
   "execution_count": 33,
   "id": "85a2efd1-a3da-43f8-a338-88f263bd6a16",
   "metadata": {},
   "outputs": [],
   "source": [
    "def convert_to_number(s):\n",
    "    if isinstance(s, str):\n",
    "        s = s.strip('$').replace(',', '').replace('%', '')\n",
    "        if 'B' in s:\n",
    "            return float(s.replace('B', '')) * 1e9\n",
    "        elif 'MM' in s:\n",
    "            return float(s.replace('MM', '')) * 1e6\n",
    "        elif 'K' in s:\n",
    "            return float(s.replace('K', '')) * 1e3\n",
    "        else:\n",
    "            return float(s)\n",
    "    return s"
   ]
  },
  {
   "cell_type": "code",
   "execution_count": 37,
   "id": "269e512f-fb7a-489b-9629-417c15d861e9",
   "metadata": {},
   "outputs": [
    {
     "ename": "IndentationError",
     "evalue": "unexpected indent (907106077.py, line 63)",
     "output_type": "error",
     "traceback": [
      "\u001b[1;36m  Cell \u001b[1;32mIn[37], line 63\u001b[1;36m\u001b[0m\n\u001b[1;33m    company_data = company_data.drop_duplicates(subset=['Date']).dropna(subset=['Date'])\u001b[0m\n\u001b[1;37m    ^\u001b[0m\n\u001b[1;31mIndentationError\u001b[0m\u001b[1;31m:\u001b[0m unexpected indent\n"
     ]
    }
   ],
   "source": [
    "def analyze_company(data, company_name):\n",
    "# Filter by company name\n",
    "    company_data = data[data['company_name'] == company_name].copy()\n",
    "    \n",
    "    # Convert financial columns to numerical values\n",
    "    company_data['Raised to Date'] = company_data['Raised to Date'].apply(convert_to_number)\n",
    "    company_data['Post Money Valuation'] = company_data['Post Money Valuation'].apply(convert_to_number)\n",
    "    company_data['Percent Shares Outstanding'] = company_data['Percent Shares Outstanding'].str.rstrip('%').astype('float') / 100\n",
    "    company_data['Issue Price'] = company_data['Issue Price'].apply(convert_to_number)\n",
    "    \n",
    "# Sort by Share Type\n",
    "    company_data.sort_values(by='Share Type', inplace=True)\n",
    "    \n",
    "# Line plots for financial metrics\n",
    "    plt.figure(figsize=(14, 8))\n",
    "    \n",
    "    for column in ['Raised to Date', 'Post Money Valuation', 'Issue Price', 'Percent Shares Outstanding']:\n",
    "        sns.lineplot(data=company_data, x='Share Type', y=column, label=column)\n",
    "    \n",
    "    plt.title(f'{company_name} Financial Metrics by Share Type')\n",
    "    plt.xlabel('Share Type')\n",
    "    plt.ylabel('Value')\n",
    "    plt.legend()\n",
    "    plt.show()\n",
    "\n",
    "# Scatter plots and correlation coefficients\n",
    "    metrics = ['Raised to Date', 'Post Money Valuation', 'Issue Price', 'Percent Shares Outstanding']\n",
    "    scatter_pairs = [('Raised to Date', 'Post Money Valuation'), \n",
    "                     ('Issue Price', 'Post Money Valuation'), \n",
    "                     ('Percent Shares Outstanding', 'Post Money Valuation')]\n",
    "    corr_coef = {}\n",
    "    \n",
    "    for x, y in scatter_pairs:\n",
    "        plt.figure(figsize=(8, 6))\n",
    "        sns.scatterplot(data=company_data, x=x, y=y)\n",
    "        plt.title(f'{x} vs {y}')\n",
    "        plt.show()\n",
    "        corr_coef[f'{x} vs {y}'] = company_data[[x, y]].corr().iloc[0, 1]\n",
    "    \n",
    "    print(\"Correlation Coefficients:\", corr_coef)\n",
    "\n",
    "# Calculate percentage changes and plot\n",
    "    company_data_pct_change = company_data[metrics].pct_change().dropna()\n",
    "    plt.figure(figsize=(14, 8))\n",
    "    \n",
    "    for column in metrics:\n",
    "        sns.lineplot(data=company_data_pct_change, x=company_data['Share Type'][1:], y=column, label=column)\n",
    "    \n",
    "    plt.title(f'{company_name} Percentage Change in Financial Metrics by Share Type')\n",
    "    plt.xlabel('Share Type')\n",
    "    plt.ylabel('Percentage Change')\n",
    "    plt.legend()\n",
    "    plt.show()\n",
    "\n",
    "    for x, y in scatter_pairs:\n",
    "        plt.figure(figsize=(8, 6))\n",
    "        sns.scatterplot(data=company_data_pct_change, x=x, y=y)\n",
    "        plt.title(f'Percentage Change: {x} vs {y}')\n",
    "        plt.show()\n",
    "    \n",
    "# Time series analysis\n",
    "    company_data['Date'] = pd.to_datetime(company_data['Date'], errors='coerce')\n",
    "    company_data = company_data.drop_duplicates(subset=['Date']).dropna(subset=['Date'])\n",
    "    company_data.set_index('Date', inplace=True)\n",
    "    \n",
    "    # Resampling to quarterly frequency and interpolating missing values\n",
    "    company_data = company_data.resample('Q').interpolate(method='linear').reset_index()\n",
    "\n",
    "    plt.figure(figsize=(14, 8))\n",
    "    for column in ['Raised to Date', 'Post Money Valuation', 'Issue Price', 'Percent Shares Outstanding']:\n",
    "        sns.lineplot(data=company_data, x='Date', y=column, label=column)\n",
    "    plt.title(f'{company_name} Financial Metrics Over Time')\n",
    "    plt.xlabel('Date')\n",
    "    plt.ylabel('Value')\n",
    "    plt.legend()\n",
    "    plt.show()\n",
    "\n",
    "\n",
    "    "
   ]
  },
  {
   "cell_type": "code",
   "execution_count": null,
   "id": "6ca2d943-83ec-482c-9e1e-b26ee90b905f",
   "metadata": {},
   "outputs": [],
   "source": [
    "file_path = 'datasets/valuation_data.csv'\n",
    "data = pd.read_csv(file_path)\n",
    "\n",
    "company_name = input(\"Enter the company name: \")\n",
    "analyze_company(data, company_name)"
   ]
  },
  {
   "cell_type": "code",
   "execution_count": null,
   "id": "4213f493-6805-44cd-a169-1ab873635603",
   "metadata": {},
   "outputs": [],
   "source": []
  }
 ],
 "metadata": {
  "kernelspec": {
   "display_name": "Python 3 (ipykernel)",
   "language": "python",
   "name": "python3"
  },
  "language_info": {
   "codemirror_mode": {
    "name": "ipython",
    "version": 3
   },
   "file_extension": ".py",
   "mimetype": "text/x-python",
   "name": "python",
   "nbconvert_exporter": "python",
   "pygments_lexer": "ipython3",
   "version": "3.11.7"
  }
 },
 "nbformat": 4,
 "nbformat_minor": 5
}
